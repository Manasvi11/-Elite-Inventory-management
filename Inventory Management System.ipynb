{
 "cells": [
  {
   "cell_type": "code",
   "execution_count": 1,
   "id": "a84e4e34",
   "metadata": {},
   "outputs": [],
   "source": [
    "fd = open(r\"C:\\Users\\manas\\Downloads\\grocery items.txt\",)\n",
    "txt = fd.read()\n",
    "fd.close()\n"
   ]
  },
  {
   "cell_type": "code",
   "execution_count": 8,
   "id": "93c327ce",
   "metadata": {},
   "outputs": [
    {
     "name": "stdout",
     "output_type": "stream",
     "text": [
      "['1200', 'sausage', '10', '4']\n",
      "['1210', 'tomatoes', '20', '5']\n",
      "['1220', 'egg', '5', '30']\n"
     ]
    }
   ],
   "source": [
    "for i in customers:\n",
    "    print(i.split(\",\"))"
   ]
  },
  {
   "cell_type": "code",
   "execution_count": 4,
   "id": "8b3d36bf",
   "metadata": {},
   "outputs": [
    {
     "name": "stdout",
     "output_type": "stream",
     "text": [
      "Enter the customer_Id: 1210\n",
      "Enter the quantity: 2\n",
      "***********************\n",
      "Product ID:  1210\n",
      "Name:  tomatoes\n",
      "Price:  20\n",
      "Quant:  2\n",
      "------------------------\n",
      "Billing Amout:  22222222222222222222\n"
     ]
    }
   ],
   "source": [
    "customers = txt.split(\"\\n\")\n",
    "\n",
    "ui_cust  = str(input(\"Enter the customer_Id: \"))\n",
    "ui_quant = input(\"Enter the quantity: \")\n",
    "\n",
    "for  customer in customers:\n",
    "    cust = customer.split(\",\")\n",
    "    \n",
    "    \n",
    "    if(cust[0] == ui_cust):\n",
    "        print(\"***********************\")\n",
    "        print(\"Product ID: \", cust[0])\n",
    "        print(\"Name: \", cust[1])\n",
    "        print(\"Price: \",cust[2])\n",
    "        print(\"Quant: \",ui_quant)\n",
    "        print(\"------------------------\")\n",
    "        print(\"Billing Amout: \", ui_quant * int(cust[2]))\n",
    "        "
   ]
  },
  {
   "cell_type": "code",
   "execution_count": null,
   "id": "f2257cba",
   "metadata": {},
   "outputs": [],
   "source": [
    "new_record = []\n",
    "\n",
    "for customer in customers:\n",
    "    cust = customer.split(\",\")\n",
    "    if(ui_cust == cust[0]):\n",
    "        cust[3] = str(int(cust[3]) - ui_quant)\n",
    "        \n",
    "    new_record.append(cust[0] + \",\" + cust[1] + \",\" + cust[2] + \",\" + cust[3] + \"\\n\")\n",
    "    \n",
    "new_record[-1] = new_record[-1][:-1]"
   ]
  },
  {
   "cell_type": "code",
   "execution_count": null,
   "id": "af53b146",
   "metadata": {},
   "outputs": [],
   "source": [
    "fd = open(\"w+\"\"C:\\Users\\manas\\Downloads\\grocery items.txt\")\n",
    "\n",
    "for i in new_record:\n",
    "    fd.write(i)\n",
    "    \n",
    "fd.close()"
   ]
  },
  {
   "cell_type": "code",
   "execution_count": null,
   "id": "3a79c583",
   "metadata": {},
   "outputs": [],
   "source": []
  }
 ],
 "metadata": {
  "kernelspec": {
   "display_name": "Python 3",
   "language": "python",
   "name": "python3"
  },
  "language_info": {
   "codemirror_mode": {
    "name": "ipython",
    "version": 3
   },
   "file_extension": ".py",
   "mimetype": "text/x-python",
   "name": "python",
   "nbconvert_exporter": "python",
   "pygments_lexer": "ipython3",
   "version": "3.8.8"
  }
 },
 "nbformat": 4,
 "nbformat_minor": 5
}
