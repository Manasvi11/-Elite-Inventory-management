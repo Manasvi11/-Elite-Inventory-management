{
 "cells": [
  {
   "cell_type": "code",
   "execution_count": 1,
   "id": "024165db",
   "metadata": {},
   "outputs": [
    {
     "data": {
      "text/plain": [
       "{'firstName': 'Joe',\n",
       " 'lastName': 'Jackson',\n",
       " 'gender': 'male',\n",
       " 'age': 28,\n",
       " 'address': {'streetAddress': '101', 'city': 'San Diego', 'state': 'CA'},\n",
       " 'phoneNumbers': [{'type': 'home', 'number': '7349282382'}]}"
      ]
     },
     "execution_count": 1,
     "metadata": {},
     "output_type": "execute_result"
    }
   ],
   "source": [
    "import json\n",
    "fd = open(r\"C:\\Users\\manas\\Downloads\\sample2.json\")\n",
    "r = fd.read()\n",
    "fd.close()\n",
    "\n",
    "record = json.loads(r)\n",
    "record"
   ]
  },
  {
   "cell_type": "code",
   "execution_count": 2,
   "id": "288ffd86",
   "metadata": {},
   "outputs": [
    {
     "name": "stdout",
     "output_type": "stream",
     "text": [
      "Enter Job title:software engineer\n",
      "Enter company name:google\n",
      "Enter salary:20000\n",
      "Enter working hours:6\n"
     ]
    }
   ],
   "source": [
    "Designation = str(input(\"Enter Job title:\"))\n",
    "name = str(input(\"Enter company name:\"))\n",
    "sr = int(input(\"Enter salary:\"))\n",
    "wh = int(input(\"Enter working hours:\"))\n",
    "\n",
    "record[Designation] = {'company name': name, 'salary': sr, 'working hours': wh}\n",
    "\n",
    "js = json.dumps(record)\n",
    "\n",
    "fd = open(\"record.json\",'w')\n",
    "fd.write(js)\n",
    "fd.close()"
   ]
  },
  {
   "cell_type": "code",
   "execution_count": 3,
   "id": "c782e2cc",
   "metadata": {},
   "outputs": [
    {
     "data": {
      "text/plain": [
       "{'firstName': 'Joe',\n",
       " 'lastName': 'Jackson',\n",
       " 'gender': 'male',\n",
       " 'age': 28,\n",
       " 'address': {'streetAddress': '101', 'city': 'San Diego', 'state': 'CA'},\n",
       " 'phoneNumbers': [{'type': 'home', 'number': '7349282382'}],\n",
       " 'software engineer': {'company name': 'google',\n",
       "  'salary': 20000,\n",
       "  'working hours': 6}}"
      ]
     },
     "execution_count": 3,
     "metadata": {},
     "output_type": "execute_result"
    }
   ],
   "source": [
    "record"
   ]
  },
  {
   "cell_type": "code",
   "execution_count": 4,
   "id": "4fa9ca83",
   "metadata": {},
   "outputs": [
    {
     "data": {
      "text/plain": [
       "{'firstName': 'Joe',\n",
       " 'lastName': 'Jackson',\n",
       " 'gender': 'male',\n",
       " 'address': {'streetAddress': '101', 'city': 'San Diego', 'state': 'CA'},\n",
       " 'phoneNumbers': [{'type': 'home', 'number': '7349282382'}],\n",
       " 'software engineer': {'company name': 'google',\n",
       "  'salary': 20000,\n",
       "  'working hours': 6}}"
      ]
     },
     "execution_count": 4,
     "metadata": {},
     "output_type": "execute_result"
    }
   ],
   "source": [
    "del record['age']\n",
    "record"
   ]
  },
  {
   "cell_type": "code",
   "execution_count": null,
   "id": "39e3490c",
   "metadata": {},
   "outputs": [],
   "source": [
    "ui_prod  = str(input(\"Enter the product_Id: \"))\n",
    "ui_quant = int(input(\"Enter the quantity: \"))\n",
    "\n",
    "\n",
    "print(\"Product: \", records[ui_prod]['name'])\n",
    "print(\"Price: \", records[ui_prod]['sr'])\n",
    "print(\"Billing Amount: \", records[ui_prod]['sr'] * ui_quant)\n",
    "\n",
    "records[ui_prod]['wh'] = records[ui_prod]['wh'] - ui_quant"
   ]
  },
  {
   "cell_type": "code",
   "execution_count": null,
   "id": "4e50e238",
   "metadata": {},
   "outputs": [],
   "source": [
    "js = json.dumps(records)\n",
    "\n",
    "fd = open(\"record.json\",'w')\n",
    "fd.write(js)\n",
    "fd.close()"
   ]
  },
  {
   "cell_type": "code",
   "execution_count": null,
   "id": "f8803ae4",
   "metadata": {},
   "outputs": [],
   "source": [
    "{'prod' : ui_prod, 'wh' : ui_quant, 'amount': records[ui_prod]['sr'] * ui_quant}"
   ]
  },
  {
   "cell_type": "code",
   "execution_count": null,
   "id": "b31031af",
   "metadata": {},
   "outputs": [],
   "source": [
    "sales = {1 : {'prod' : ui_prod, 'wh' : ui_quant, 'amount': records[ui_prod]['sr'] * ui_quant},\n",
    "         }"
   ]
  },
  {
   "cell_type": "code",
   "execution_count": null,
   "id": "da095ec8",
   "metadata": {},
   "outputs": [],
   "source": [
    "sale = json.dumps(sales)"
   ]
  }
 ],
 "metadata": {
  "kernelspec": {
   "display_name": "Python 3",
   "language": "python",
   "name": "python3"
  },
  "language_info": {
   "codemirror_mode": {
    "name": "ipython",
    "version": 3
   },
   "file_extension": ".py",
   "mimetype": "text/x-python",
   "name": "python",
   "nbconvert_exporter": "python",
   "pygments_lexer": "ipython3",
   "version": "3.8.8"
  }
 },
 "nbformat": 4,
 "nbformat_minor": 5
}
